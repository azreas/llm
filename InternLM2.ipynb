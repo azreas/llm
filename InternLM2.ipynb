{
 "cells": [
  {
   "cell_type": "code",
   "execution_count": 1,
   "id": "8c6d2432-d6fb-4ca9-8d9d-42db3e261b94",
   "metadata": {},
   "outputs": [
    {
     "name": "stderr",
     "output_type": "stream",
     "text": [
      "2024-05-07 14:05:12,182 - modelscope - INFO - PyTorch version 2.3.0 Found.\n",
      "2024-05-07 14:05:12,184 - modelscope - INFO - Loading ast index from /opt/cache/modelscope/hub/ast_indexer\n",
      "2024-05-07 14:05:12,215 - modelscope - INFO - Loading done! Current index file version is 1.14.0, with md5 3b593945c183999e128b6a0cd6e70208 and a total number of 976 components indexed\n",
      "2024-05-07 14:05:13,921 - modelscope - WARNING - Model revision not specified, use revision: v1.1.0\n"
     ]
    },
    {
     "data": {
      "application/vnd.jupyter.widget-view+json": {
       "model_id": "8b867a268e2842188c65fa4f32f183ec",
       "version_major": 2,
       "version_minor": 0
      },
      "text/plain": [
       "Loading checkpoint shards:   0%|          | 0/8 [00:00<?, ?it/s]"
      ]
     },
     "metadata": {},
     "output_type": "display_data"
    },
    {
     "name": "stdout",
     "output_type": "stream",
     "text": [
      "Hello! How can I assist you today?\n",
      "Certainly! Here are three suggestions for effective time management:\n",
      "\n",
      "1. **Prioritize Tasks:** Identify the most important and urgent tasks and focus on completing them first. This will help you make the most of your time and ensure that you are addressing the most pressing issues.\n",
      "\n",
      "2. **Set Realistic Goals:** Break down larger tasks into smaller, more manageable ones, and set achievable goals for each day or week. This will help you stay motivated and make progress towards your larger objectives.\n",
      "\n",
      "3. **Use Time-Blocking Techniques:** Allocate specific time slots for different tasks or activities, and stick to the schedule as closely as possible. This can help you avoid distractions and stay focused on the task at hand.\n",
      "\n",
      "Remember, effective time management is about finding a balance between productivity and rest. Be sure to take breaks and prioritize self-care to avoid burnout.\n"
     ]
    }
   ],
   "source": [
    "import torch\n",
    "\n",
    "from modelscope import snapshot_download, AutoTokenizer, AutoModelForCausalLM\n",
    "model_dir = snapshot_download('Shanghai_AI_Laboratory/internlm2-chat-7b')\n",
    "tokenizer = AutoTokenizer.from_pretrained(model_dir, device_map=\"auto\", trust_remote_code=True)\n",
    "model = AutoModelForCausalLM.from_pretrained(model_dir, device_map=\"auto\", trust_remote_code=True, torch_dtype=torch.float16)\n",
    "# (可选) 如果在低资源设备上，可以通过bitsandbytes加载4-bit或8-bit量化的模型，进一步节省GPU显存.\n",
    "  # 4-bit 量化的 InternLM 7B 大约会消耗 8GB 显存.\n",
    "  # pip install -U bitsandbytes\n",
    "  # 8-bit: model = AutoModelForCausalLM.from_pretrained(model_dir, device_map=\"auto\", trust_remote_code=True, load_in_8bit=True)\n",
    "  # 4-bit: model = AutoModelForCausalLM.from_pretrained(model_dir, device_map=\"auto\", trust_remote_code=True, load_in_4bit=True)\n",
    "model = model.eval()\n"
   ]
  },
  {
   "cell_type": "code",
   "execution_count": 3,
   "id": "de00cc4f-a1e0-426e-a97f-a147087eeec7",
   "metadata": {},
   "outputs": [
    {
     "name": "stdout",
     "output_type": "stream",
     "text": [
      "书的内容可以是彩色的，但这取决于书籍的类型和内容。比如，绘本、漫画、儿童读物等可能会使用彩色插图，而一些非虚构类书籍则可能使用黑白印刷。另外，电子书和电子阅读器上的书籍也可能会使用彩色文本和插图。总的来说，书的色彩取决于出版社和作者的创作意图。\n",
      "很抱歉，我无法回答您的问题，因为我无法获取关于具体订单的信息。请您直接联系卖家或者客服部门以获取准确的物流信息。如果您有其他问题，我很乐意为您提供帮助。我们一起保护和维护有益、健康的讨论环境。如果有其他我可以帮助您的地方，请随时告诉我。\n",
      "当然可以，我可以使用快递服务来寄送您的物品。您需要我帮您安排快递服务吗？\n",
      "如果您觉得价格太高，我建议您可以考虑以下几个方面来解决问题：\n",
      "\n",
      "1. **寻找替代品**：\n",
      "   - 有时候，市场上可能会有价格更为合理的替代品。您可以寻找其他品牌或型号的产品，或者尝试寻找二手商品。\n",
      "\n",
      "2. **等待促销活动**：\n",
      "   - 许多商家会在特定时间（如节假日、季节性活动等）进行促销，提供折扣或优惠券。您可以关注商家的促销信息，或者订阅他们的通讯以获取最新的优惠信息。\n",
      "\n",
      "3. **与商家协商**：\n",
      "   - 如果您非常想买这个产品，但价格超出预算，您可以尝试与商家协商。礼貌地表达您的购买意愿，并询问是否有任何折扣或特别优惠可以提供。\n",
      "\n",
      "4. **考虑分期付款**：\n",
      "   - 如果您的财务状况允许，您可以考虑分期付款的选项。这可能可以帮助您将购买成本分散到一段时间内，从而减轻一次性支付的压力。\n",
      "\n",
      "5. **权衡成本与价值**：\n",
      "   - 最后，您需要考虑产品的价值是否与价格相符。如果这个产品对您来说非常重要，并且它的功能、品质和性能对您的生活或工作有重大影响，那么它可能是一个值得投资的长期资产。\n",
      "\n",
      "记住，在做出决定之前，一定要全面考虑您的财务状况和需求，并做出最符合您个人情况的选择。\n"
     ]
    }
   ],
   "source": [
    "response, history = model.chat(tokenizer, \"书是彩色的吗\", history=[])\n",
    "print(response)\n",
    "response, history = model.chat(tokenizer, \"啥时候发货啊不是\", history=[])\n",
    "print(response)\n",
    "response, history = model.chat(tokenizer, \"可以选择快递吗\", history=[])\n",
    "print(response)\n",
    "response, history = model.chat(tokenizer, \"太贵了\", history=[])\n",
    "print(response)"
   ]
  },
  {
   "cell_type": "code",
   "execution_count": null,
   "id": "755d0de5-7a74-4186-bec2-fc5e440063b7",
   "metadata": {},
   "outputs": [],
   "source": []
  }
 ],
 "metadata": {
  "kernelspec": {
   "display_name": "Python 3 (ipykernel)",
   "language": "python",
   "name": "python3"
  },
  "language_info": {
   "codemirror_mode": {
    "name": "ipython",
    "version": 3
   },
   "file_extension": ".py",
   "mimetype": "text/x-python",
   "name": "python",
   "nbconvert_exporter": "python",
   "pygments_lexer": "ipython3",
   "version": "3.10.12"
  }
 },
 "nbformat": 4,
 "nbformat_minor": 5
}
