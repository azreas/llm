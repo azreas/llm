{
 "cells": [
  {
   "cell_type": "code",
   "execution_count": 1,
   "id": "458a3cbb-80ab-43a5-82ae-650ddc48d5c4",
   "metadata": {},
   "outputs": [
    {
     "name": "stdout",
     "output_type": "stream",
     "text": [
      "embeddings:\n",
      "[[-0.03264789  0.01678319  0.00187351 ...  0.01613948 -0.00395776\n",
      "  -0.03227634]\n",
      " [-0.02282485  0.01687307  0.00634833 ...  0.01407549 -0.0080292\n",
      "  -0.04357621]]\n",
      "cos_sim: 0.952415\n"
     ]
    }
   ],
   "source": [
    "from typing import cast, List, Dict, Union\n",
    "from transformers import AutoModel, AutoTokenizer\n",
    "import torch\n",
    "import numpy as np\n",
    "\n",
    "tokenizer = AutoTokenizer.from_pretrained('BAAI/bge-large-zh-v1.5')\n",
    "model = AutoModel.from_pretrained('BAAI/bge-large-zh-v1.5')\n",
    "sentences = ['年假有多少天', '年休假有多少天']\n",
    "inputs = tokenizer(sentences, padding=True, truncation=True, return_tensors='pt', max_length=512)\n",
    "\n",
    "if __name__ == \"__main__\":\n",
    "\n",
    "    with torch.no_grad():\n",
    "        last_hidden_state = model(**inputs, return_dict=True).last_hidden_state\n",
    "        embeddings = last_hidden_state[:, 0]\n",
    "        embeddings = torch.nn.functional.normalize(embeddings, dim=-1)\n",
    "        embeddings = embeddings.cpu().numpy()\n",
    "\n",
    "    print(\"embeddings:\")\n",
    "    print(embeddings)\n",
    "\n",
    "    cos_sim = np.dot(embeddings[0], embeddings[1])\n",
    "    print(\"cos_sim:\", cos_sim)\n"
   ]
  },
  {
   "cell_type": "code",
   "execution_count": null,
   "id": "fd9b1595-7155-4ed6-86ca-bdddf2b1e83c",
   "metadata": {},
   "outputs": [],
   "source": []
  }
 ],
 "metadata": {
  "kernelspec": {
   "display_name": "Python 3 (ipykernel)",
   "language": "python",
   "name": "python3"
  },
  "language_info": {
   "codemirror_mode": {
    "name": "ipython",
    "version": 3
   },
   "file_extension": ".py",
   "mimetype": "text/x-python",
   "name": "python",
   "nbconvert_exporter": "python",
   "pygments_lexer": "ipython3",
   "version": "3.10.14"
  }
 },
 "nbformat": 4,
 "nbformat_minor": 5
}
