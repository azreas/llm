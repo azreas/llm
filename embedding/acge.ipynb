{
 "cells": [
  {
   "cell_type": "code",
   "execution_count": 1,
   "id": "458a3cbb-80ab-43a5-82ae-650ddc48d5c4",
   "metadata": {},
   "outputs": [
    {
     "name": "stdout",
     "output_type": "stream",
     "text": [
      "embeddings:\n",
      "[[ 0.01722996  0.01877712 -0.01040263 ...  0.02270935  0.02208803\n",
      "   0.02271898]\n",
      " [ 0.00118843  0.02210123 -0.01069502 ...  0.0135293   0.02753096\n",
      "   0.01900072]]\n",
      "cos_sim: 0.9697404\n"
     ]
    }
   ],
   "source": [
    "from typing import cast, List, Dict, Union\n",
    "from transformers import AutoModel, AutoTokenizer\n",
    "import torch\n",
    "import numpy as np\n",
    "\n",
    "tokenizer = AutoTokenizer.from_pretrained('aspire/acge_text_embedding')\n",
    "model = AutoModel.from_pretrained('aspire/acge_text_embedding')\n",
    "sentences = ['年假有多少天', '年休假有多少天']\n",
    "inputs = tokenizer(sentences, padding=True, truncation=True, return_tensors='pt', max_length=512)\n",
    "\n",
    "if __name__ == \"__main__\":\n",
    "\n",
    "    with torch.no_grad():\n",
    "        last_hidden_state = model(**inputs, return_dict=True).last_hidden_state\n",
    "        embeddings = last_hidden_state[:, 0]\n",
    "        embeddings = torch.nn.functional.normalize(embeddings, dim=-1)\n",
    "        embeddings = embeddings.cpu().numpy()\n",
    "\n",
    "    print(\"embeddings:\")\n",
    "    print(embeddings)\n",
    "\n",
    "    cos_sim = np.dot(embeddings[0], embeddings[1])\n",
    "    print(\"cos_sim:\", cos_sim)\n"
   ]
  },
  {
   "cell_type": "code",
   "execution_count": null,
   "id": "fd9b1595-7155-4ed6-86ca-bdddf2b1e83c",
   "metadata": {},
   "outputs": [],
   "source": []
  }
 ],
 "metadata": {
  "kernelspec": {
   "display_name": "Python 3 (ipykernel)",
   "language": "python",
   "name": "python3"
  },
  "language_info": {
   "codemirror_mode": {
    "name": "ipython",
    "version": 3
   },
   "file_extension": ".py",
   "mimetype": "text/x-python",
   "name": "python",
   "nbconvert_exporter": "python",
   "pygments_lexer": "ipython3",
   "version": "3.10.14"
  }
 },
 "nbformat": 4,
 "nbformat_minor": 5
}
