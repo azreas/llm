{
 "cells": [
  {
   "cell_type": "code",
   "execution_count": 1,
   "id": "de8ca813-fa5a-4255-9e93-918980686674",
   "metadata": {},
   "outputs": [
    {
     "name": "stderr",
     "output_type": "stream",
     "text": [
      "/home/xuzijie/.pyenv/versions/3.10.14/envs/xuzijie/lib/python3.10/site-packages/sentence_transformers/cross_encoder/CrossEncoder.py:11: TqdmExperimentalWarning: Using `tqdm.autonotebook.tqdm` in notebook mode. Use `tqdm.tqdm` instead to force console mode (e.g. in jupyter console)\n",
      "  from tqdm.autonotebook import tqdm, trange\n",
      "/home/xuzijie/.pyenv/versions/3.10.14/envs/xuzijie/lib/python3.10/site-packages/huggingface_hub/file_download.py:1132: FutureWarning: `resume_download` is deprecated and will be removed in version 1.0.0. Downloads always resume when possible. If you want to force a new download, use `force_download=True`.\n",
      "  warnings.warn(\n"
     ]
    },
    {
     "name": "stdout",
     "output_type": "stream",
     "text": [
      "[[0.9866195]]\n"
     ]
    }
   ],
   "source": [
    "from sentence_transformers import SentenceTransformer\n",
    "sentences1 = [\"年假有多少天\"]\n",
    "sentences2 = [\"年休假有多少天\"]\n",
    "model = SentenceTransformer('iampanda/zpoint_large_embedding_zh')\n",
    "embeddings_1 = model.encode(sentences1, normalize_embeddings=True)\n",
    "embeddings_2 = model.encode(sentences2, normalize_embeddings=True)\n",
    "similarity = embeddings_1 @ embeddings_2.T \n",
    "print(similarity)"
   ]
  }
 ],
 "metadata": {
  "kernelspec": {
   "display_name": "Python 3 (ipykernel)",
   "language": "python",
   "name": "python3"
  },
  "language_info": {
   "codemirror_mode": {
    "name": "ipython",
    "version": 3
   },
   "file_extension": ".py",
   "mimetype": "text/x-python",
   "name": "python",
   "nbconvert_exporter": "python",
   "pygments_lexer": "ipython3",
   "version": "3.10.14"
  }
 },
 "nbformat": 4,
 "nbformat_minor": 5
}
