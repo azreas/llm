{
 "cells": [
  {
   "cell_type": "code",
   "execution_count": 1,
   "id": "23160e39-87be-4f55-9cda-8156b3fe7050",
   "metadata": {
    "scrolled": true,
    "tags": []
   },
   "outputs": [
    {
     "name": "stderr",
     "output_type": "stream",
     "text": [
      "2024-05-06 13:39:38,963 - modelscope - INFO - PyTorch version 2.3.0 Found.\n",
      "2024-05-06 13:39:38,965 - modelscope - INFO - Loading ast index from /opt/cache/modelscope/hub/ast_indexer\n",
      "2024-05-06 13:39:38,996 - modelscope - INFO - Loading done! Current index file version is 1.14.0, with md5 3b593945c183999e128b6a0cd6e70208 and a total number of 976 components indexed\n",
      "Special tokens have been added in the vocabulary, make sure the associated word embeddings are fine-tuned or trained.\n"
     ]
    },
    {
     "data": {
      "application/vnd.jupyter.widget-view+json": {
       "model_id": "33c7e6e3e0bb4ffc8243f27ab7501844",
       "version_major": 2,
       "version_minor": 0
      },
      "text/plain": [
       "Loading checkpoint shards:   0%|          | 0/4 [00:00<?, ?it/s]"
      ]
     },
     "metadata": {},
     "output_type": "display_data"
    },
    {
     "name": "stdout",
     "output_type": "stream",
     "text": [
      "LlamaModel(\n",
      "  (embed_tokens): Embedding(128256, 4096)\n",
      "  (layers): ModuleList(\n",
      "    (0-31): 32 x LlamaDecoderLayer(\n",
      "      (self_attn): LlamaSdpaAttention(\n",
      "        (q_proj): Linear(in_features=4096, out_features=4096, bias=False)\n",
      "        (k_proj): Linear(in_features=4096, out_features=1024, bias=False)\n",
      "        (v_proj): Linear(in_features=4096, out_features=1024, bias=False)\n",
      "        (o_proj): Linear(in_features=4096, out_features=4096, bias=False)\n",
      "        (rotary_emb): LlamaRotaryEmbedding()\n",
      "      )\n",
      "      (mlp): LlamaMLP(\n",
      "        (gate_proj): Linear(in_features=4096, out_features=14336, bias=False)\n",
      "        (up_proj): Linear(in_features=4096, out_features=14336, bias=False)\n",
      "        (down_proj): Linear(in_features=14336, out_features=4096, bias=False)\n",
      "        (act_fn): SiLU()\n",
      "      )\n",
      "      (input_layernorm): LlamaRMSNorm()\n",
      "      (post_attention_layernorm): LlamaRMSNorm()\n",
      "    )\n",
      "  )\n",
      "  (norm): LlamaRMSNorm()\n",
      ")\n"
     ]
    }
   ],
   "source": [
    "from modelscope import AutoTokenizer, AutoModel, snapshot_download\n",
    "\n",
    "\n",
    "model_dir = snapshot_download(\"LLM-Research/Meta-Llama-3-8B-Instruct\")\n",
    "tokenizer = AutoTokenizer.from_pretrained(model_dir, trust_remote_code=True)\n",
    "model = AutoModel.from_pretrained(model_dir, trust_remote_code=True).half().cuda()\n",
    "model = model.eval()\n",
    "print(model)"
   ]
  },
  {
   "cell_type": "code",
   "execution_count": 2,
   "id": "a7ed0593-7b50-4da9-9d92-2a2c2c783dc1",
   "metadata": {
    "scrolled": true,
    "tags": []
   },
   "outputs": [
    {
     "ename": "AttributeError",
     "evalue": "'LlamaModel' object has no attribute 'chat'",
     "output_type": "error",
     "traceback": [
      "\u001b[0;31m---------------------------------------------------------------------------\u001b[0m",
      "\u001b[0;31mAttributeError\u001b[0m                            Traceback (most recent call last)",
      "Cell \u001b[0;32mIn[2], line 1\u001b[0m\n\u001b[0;32m----> 1\u001b[0m response, history \u001b[38;5;241m=\u001b[39m \u001b[43mmodel\u001b[49m\u001b[38;5;241;43m.\u001b[39;49m\u001b[43mchat\u001b[49m(tokenizer, \u001b[38;5;124m\"\u001b[39m\u001b[38;5;124m书是彩色的吗\u001b[39m\u001b[38;5;124m\"\u001b[39m, history\u001b[38;5;241m=\u001b[39m[])\n\u001b[1;32m      2\u001b[0m \u001b[38;5;28mprint\u001b[39m(response)\n\u001b[1;32m      3\u001b[0m response, history \u001b[38;5;241m=\u001b[39m model\u001b[38;5;241m.\u001b[39mchat(tokenizer, \u001b[38;5;124m\"\u001b[39m\u001b[38;5;124m啥时候发货啊不是\u001b[39m\u001b[38;5;124m\"\u001b[39m, history\u001b[38;5;241m=\u001b[39m[])\n",
      "File \u001b[0;32m~/.pyenv/versions/xuzijie/lib/python3.10/site-packages/torch/nn/modules/module.py:1709\u001b[0m, in \u001b[0;36mModule.__getattr__\u001b[0;34m(self, name)\u001b[0m\n\u001b[1;32m   1707\u001b[0m     \u001b[38;5;28;01mif\u001b[39;00m name \u001b[38;5;129;01min\u001b[39;00m modules:\n\u001b[1;32m   1708\u001b[0m         \u001b[38;5;28;01mreturn\u001b[39;00m modules[name]\n\u001b[0;32m-> 1709\u001b[0m \u001b[38;5;28;01mraise\u001b[39;00m \u001b[38;5;167;01mAttributeError\u001b[39;00m(\u001b[38;5;124mf\u001b[39m\u001b[38;5;124m\"\u001b[39m\u001b[38;5;124m'\u001b[39m\u001b[38;5;132;01m{\u001b[39;00m\u001b[38;5;28mtype\u001b[39m(\u001b[38;5;28mself\u001b[39m)\u001b[38;5;241m.\u001b[39m\u001b[38;5;18m__name__\u001b[39m\u001b[38;5;132;01m}\u001b[39;00m\u001b[38;5;124m'\u001b[39m\u001b[38;5;124m object has no attribute \u001b[39m\u001b[38;5;124m'\u001b[39m\u001b[38;5;132;01m{\u001b[39;00mname\u001b[38;5;132;01m}\u001b[39;00m\u001b[38;5;124m'\u001b[39m\u001b[38;5;124m\"\u001b[39m)\n",
      "\u001b[0;31mAttributeError\u001b[0m: 'LlamaModel' object has no attribute 'chat'"
     ]
    }
   ],
   "source": [
    "response, history = model.chat(tokenizer, \"书是彩色的吗\", history=[])\n",
    "print(response)\n",
    "response, history = model.chat(tokenizer, \"啥时候发货啊不是\", history=[])\n",
    "print(response)\n",
    "response, history = model.chat(tokenizer, \"是正版吗\", history=[])\n",
    "print(response)\n",
    "response, history = model.chat(tokenizer, \"怎么领取课程\", history=[])\n",
    "print(response)\n",
    "response, history = model.chat(tokenizer, \"可以选择快递吗\", history=[])\n",
    "print(response)\n",
    "response, history = model.chat(tokenizer, \"限购吗\", history=[])\n",
    "print(response)\n",
    "response, history = model.chat(tokenizer, \"太贵了\", history=[])\n",
    "print(response)\n",
    "response, history = model.chat(tokenizer, \"96/77=\", history=[])\n",
    "print(response)"
   ]
  },
  {
   "cell_type": "code",
   "execution_count": null,
   "id": "24846fc7-ddfc-4055-8437-099c06af8aea",
   "metadata": {
    "scrolled": true,
    "tags": []
   },
   "outputs": [],
   "source": [
    "# from peft import PeftModel\n",
    "# new_model = PeftModel.from_pretrained(\n",
    "#             model,\n",
    "#             \"/opt/data/chatglm3-6b/customer_sft_500\",\n",
    "#             device_map='auto'\n",
    "#         )"
   ]
  },
  {
   "cell_type": "code",
   "execution_count": null,
   "id": "0ad8d868-74f4-49ba-8d73-6905f812eb20",
   "metadata": {},
   "outputs": [],
   "source": [
    "# response, history = new_model.chat(tokenizer, \"书是彩色的吗\", history=[])\n",
    "# print(response)\n",
    "# response, history = new_model.chat(tokenizer, \"啥时候发货啊不是\", history=[])\n",
    "# print(response)\n",
    "# response, history = new_model.chat(tokenizer, \"是正版吗\", history=[])\n",
    "# print(response)\n",
    "# response, history = new_model.chat(tokenizer, \"怎么领取课程\", history=[])\n",
    "# print(response)\n",
    "# response, history = new_model.chat(tokenizer, \"可以选择快递吗\", history=[])\n",
    "# print(response)\n",
    "# response, history = new_model.chat(tokenizer, \"限购吗\", history=[])\n",
    "# print(response)\n",
    "# response, history = new_model.chat(tokenizer, \"太贵了\", history=[])\n",
    "# print(response)"
   ]
  },
  {
   "cell_type": "code",
   "execution_count": null,
   "id": "aa6b4cab-5889-40bb-becf-5ebfa6704233",
   "metadata": {},
   "outputs": [],
   "source": [
    "# response, history = new_model.chat(tokenizer, \"书是彩色的吗\", history=[])\n",
    "# print(response)\n",
    "# response, history = new_model.chat(tokenizer, \"啥时候发货啊不是\", history=[])\n",
    "# print(response)\n",
    "# response, history = new_model.chat(tokenizer, \"是正版吗\", history=[])\n",
    "# print(response)\n",
    "# response, history = new_model.chat(tokenizer, \"怎么领取课程\", history=[])\n",
    "# print(response)\n",
    "# response, history = new_model.chat(tokenizer, \"可以选择快递吗\", history=[])\n",
    "# print(response)\n",
    "# response, history = new_model.chat(tokenizer, \"限购吗\", history=[])\n",
    "# print(response)\n",
    "# response, history = new_model.chat(tokenizer, \"太贵了\", history=[])\n",
    "# print(response)"
   ]
  }
 ],
 "metadata": {
  "kernelspec": {
   "display_name": "Python 3 (ipykernel)",
   "language": "python",
   "name": "python3"
  },
  "language_info": {
   "codemirror_mode": {
    "name": "ipython",
    "version": 3
   },
   "file_extension": ".py",
   "mimetype": "text/x-python",
   "name": "python",
   "nbconvert_exporter": "python",
   "pygments_lexer": "ipython3",
   "version": "3.10.12"
  }
 },
 "nbformat": 4,
 "nbformat_minor": 5
}
