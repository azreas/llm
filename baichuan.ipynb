{
 "cells": [
  {
   "cell_type": "code",
   "execution_count": 1,
   "id": "7c17f29b-df80-42aa-b7d4-b7ca1fe358d2",
   "metadata": {},
   "outputs": [
    {
     "name": "stderr",
     "output_type": "stream",
     "text": [
      "2024-05-07 13:21:10,461 - modelscope - INFO - PyTorch version 2.3.0 Found.\n",
      "2024-05-07 13:21:10,462 - modelscope - INFO - Loading ast index from /opt/cache/modelscope/hub/ast_indexer\n",
      "2024-05-07 13:21:10,494 - modelscope - INFO - Loading done! Current index file version is 1.14.0, with md5 3b593945c183999e128b6a0cd6e70208 and a total number of 976 components indexed\n",
      "2024-05-07 13:21:12,065 - modelscope - INFO - Use user-specified model revision: v1.0.5\n",
      "Xformers is not installed correctly. If you want to use memory_efficient_attention to accelerate training use the following command to install Xformers\n",
      "pip install xformers.\n"
     ]
    }
   ],
   "source": [
    "import torch\n",
    "from modelscope import snapshot_download, AutoModelForCausalLM, AutoTokenizer,GenerationConfig\n",
    "model_dir = snapshot_download(\"baichuan-inc/Baichuan2-7B-Chat\", revision='v1.0.5')\n",
    "tokenizer = AutoTokenizer.from_pretrained(model_dir, device_map=\"auto\", \n",
    "                              trust_remote_code=True, torch_dtype=torch.float16)\n",
    "model = AutoModelForCausalLM.from_pretrained(model_dir, device_map=\"auto\", \n",
    "                              trust_remote_code=True, torch_dtype=torch.float16)\n",
    "model.generation_config = GenerationConfig.from_pretrained(model_dir)\n",
    "# messages = []\n",
    "# messages.append({\"role\": \"user\", \"content\": \"讲解一下“温故而知新”\"})\n",
    "# response = model.chat(tokenizer, messages)\n",
    "# print(response)\n",
    "# messages.append({'role': 'assistant', 'content': response})\n",
    "# messages.append({\"role\": \"user\", \"content\": \"背诵一下将进酒\"})\n",
    "# response = model.chat(tokenizer, messages)\n",
    "# print(response)"
   ]
  },
  {
   "cell_type": "code",
   "execution_count": 7,
   "id": "8fbbd933-6d0b-4ffb-8699-7c16d30ab904",
   "metadata": {},
   "outputs": [
    {
     "name": "stdout",
     "output_type": "stream",
     "text": [
      "书通常是黑色的，但近年来也出现了很多彩色印刷的书。这些彩色书籍通常使用特殊油墨或印刷技术，如丝网印刷、热转印等，使书籍呈现出丰富的色彩和图案。此外，还有一些书籍采用特殊材料制作，如金属箔、透明塑料等，进一步增加了书的视觉效果。\n",
      "当您购买商品或服务后，具体的发货时间可能会因商家、产品类型和库存等因素而有所不同。通常，您可以在订单确认后的页面中找到关于发货时间的详细信息，或者联系卖家进行咨询。如果您对发货时间有疑问或不满，可以尝试与卖家沟通，看看是否能解决问题。如果无法解决，您还可以考虑申请退款或更换其他商家。\n",
      "这取决于您的个人需求和情况。如果您需要快速交付物品或文件，那么快递可能是一个好选择。然而，快递费用通常较高，而且如果您不在收件人的地址，您可能需要委托他人接收包裹。此外，一些快递公司可能会要求您在交付时亲自签名。在选择快递之前，请考虑这些因素以及您的预算和可用性。\n",
      "我明白您的担忧。如果您觉得某个产品或服务的价格过高，可以考虑以下几点：\n",
      "\n",
      "1. 了解市场定价：首先，了解类似产品或服务的市场价格，以确保您所支付的价格是否合理。\n",
      "\n",
      "2. 品质与价值：有时候，价格较高的产品或服务可能具有更高的品质、功能或价值。在购买时，权衡这些因素，看看它们是否值得支付额外的费用。\n",
      "\n",
      "3. 折扣和优惠：查看是否有折扣、优惠券或其他促销活动，以降低购买成本。\n",
      "\n",
      "4. 比较不同供应商：如果多个供应商提供类似的产品或服务，可以比较他们的价格、品质和售后服务，以便找到最合适的选择。\n",
      "\n",
      "5. 考虑替代方案：如果价格确实是您购买的主要障碍，可以考虑寻找替代品，或者等待价格下降后再购买。\n",
      "\n",
      "最后，如果您仍然认为价格过高，可以与供应商沟通您的担忧，看看他们是否可以提供更好的交易。\n"
     ]
    }
   ],
   "source": [
    "messages = []\n",
    "messages.append({\"role\": \"user\", \"content\": \"书是彩色的吗\"})\n",
    "response = model.chat(tokenizer, messages)\n",
    "print(response)\n",
    "messages = []\n",
    "messages.append({\"role\": \"user\", \"content\": \"啥时候发货啊不是\"})\n",
    "response = model.chat(tokenizer, messages)\n",
    "print(response)\n",
    "messages = []\n",
    "messages.append({\"role\": \"user\", \"content\": \"可以选择快递吗\"})\n",
    "response = model.chat(tokenizer, messages)\n",
    "print(response)\n",
    "messages = []\n",
    "messages.append({\"role\": \"user\", \"content\": \"太贵了\"})\n",
    "response = model.chat(tokenizer, messages)\n",
    "print(response)"
   ]
  },
  {
   "cell_type": "code",
   "execution_count": null,
   "id": "81f4769a-f2dd-4342-ad56-b96b299d977a",
   "metadata": {},
   "outputs": [],
   "source": []
  }
 ],
 "metadata": {
  "kernelspec": {
   "display_name": "Python 3 (ipykernel)",
   "language": "python",
   "name": "python3"
  },
  "language_info": {
   "codemirror_mode": {
    "name": "ipython",
    "version": 3
   },
   "file_extension": ".py",
   "mimetype": "text/x-python",
   "name": "python",
   "nbconvert_exporter": "python",
   "pygments_lexer": "ipython3",
   "version": "3.10.12"
  }
 },
 "nbformat": 4,
 "nbformat_minor": 5
}
