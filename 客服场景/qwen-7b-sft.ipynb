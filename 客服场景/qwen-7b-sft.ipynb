{
 "cells": [
  {
   "cell_type": "code",
   "execution_count": 1,
   "id": "48c148bd-ca03-42b9-bc23-83369eb5dd06",
   "metadata": {},
   "outputs": [
    {
     "data": {
      "application/vnd.jupyter.widget-view+json": {
       "model_id": "5edcdac5fcdc40bb90f410cf2cef2e6f",
       "version_major": 2,
       "version_minor": 0
      },
      "text/plain": [
       "Loading checkpoint shards:   0%|          | 0/4 [00:00<?, ?it/s]"
      ]
     },
     "metadata": {},
     "output_type": "display_data"
    },
    {
     "name": "stderr",
     "output_type": "stream",
     "text": [
      "Special tokens have been added in the vocabulary, make sure the associated word embeddings are fine-tuned or trained.\n"
     ]
    }
   ],
   "source": [
    "from transformers import AutoModelForCausalLM, AutoTokenizer\n",
    "# from transformers import AutoTokenizer, AutoModel\n",
    "import os\n",
    "os.environ[\"CUDA_VISIBLE_DEVICES\"]=\"0\"\n",
    "\n",
    "model_dir='/opt/cache/modelscope/hub/qwen/Qwen1___5-7B-Chat'\n",
    "# Now you do not need to add \"trust_remote_code=True\"\n",
    "model = AutoModelForCausalLM.from_pretrained(\n",
    "    model_dir,\n",
    "    torch_dtype=\"auto\",\n",
    "    device_map=\"auto\"\n",
    ")\n",
    "tokenizer = AutoTokenizer.from_pretrained(model_dir)\n"
   ]
  },
  {
   "cell_type": "code",
   "execution_count": 2,
   "id": "68c213a4-b58f-46a0-bab7-159a75e7e91d",
   "metadata": {},
   "outputs": [],
   "source": [
    "def evaluate(model,prompt):\n",
    "    messages = [\n",
    "        # {\"role\": \"system\", \"content\": \"You are a helpful assistant.\"},\n",
    "        {\"role\": \"user\", \"content\": prompt}\n",
    "    ]\n",
    "    text = tokenizer.apply_chat_template(\n",
    "        messages,\n",
    "        tokenize=False,\n",
    "        add_generation_prompt=True\n",
    "    )\n",
    "    model_inputs = tokenizer([text], return_tensors=\"pt\").to('cuda')\n",
    "\n",
    "    generated_ids = model.generate(\n",
    "        model_inputs.input_ids,\n",
    "        max_new_tokens=512\n",
    "    )\n",
    "    generated_ids = [\n",
    "        output_ids[len(input_ids):] for input_ids, output_ids in zip(model_inputs.input_ids, generated_ids)\n",
    "    ]\n",
    "\n",
    "    response = tokenizer.batch_decode(generated_ids, skip_special_tokens=True)[0]\n",
    "    print(response)\n",
    "    # return response"
   ]
  },
  {
   "cell_type": "code",
   "execution_count": 3,
   "id": "57cdf7b5-df80-4cfc-a9d8-21eb02645a35",
   "metadata": {},
   "outputs": [
    {
     "name": "stdout",
     "output_type": "stream",
     "text": [
      "当然可以，您有什么需要帮助的问题或者想聊的话题吗？关于潮州，我可以提供当地的文化、历史、美食等方面的信息。\n"
     ]
    },
    {
     "data": {
      "text/plain": [
       "'当然可以，您有什么需要帮助的问题或者想聊的话题吗？关于潮州，我可以提供当地的文化、历史、美食等方面的信息。'"
      ]
     },
     "execution_count": 3,
     "metadata": {},
     "output_type": "execute_result"
    }
   ],
   "source": [
    "evaluate(model, \"能发潮州吗\")\n"
   ]
  },
  {
   "cell_type": "code",
   "execution_count": 4,
   "id": "8c4f1775-5e1b-417b-b0eb-30b001a35526",
   "metadata": {},
   "outputs": [],
   "source": [
    "from peft import PeftModel\n",
    "new_model = PeftModel.from_pretrained(\n",
    "            model,\n",
    "            \"/opt/data/qwen1.5-7b/customer_sft_200\",\n",
    "            device_map='auto'\n",
    "        )"
   ]
  },
  {
   "cell_type": "code",
   "execution_count": 5,
   "id": "38379f83-08f4-4566-b935-95526670ac4c",
   "metadata": {},
   "outputs": [
    {
     "name": "stdout",
     "output_type": "stream",
     "text": [
      "您好，大陆地区我们都可以发货哦，海外和港澳台的读者可以将地址留为中转仓，再由中转仓转到海外地址哦\n",
      "轩宝放心，我们会尽快发货，订单付款后24小时内就能安排发货哒，预售书籍除外\n",
      "轩宝，非常理解您可能是因为某些快递不方便，但为了保证发货速度，咱们是系统自动配货哦，无法指定快递，我们合作的快递到货也是挺快的哟，还望您多多谅解呢\n",
      "我们店铺是新华书店的网上书店哟，质量有保证，现在的价格已经在原有的基础上打折呢的，喜欢就拍下哦，不会让您失望的~\n"
     ]
    },
    {
     "data": {
      "text/plain": [
       "'我们店铺是新华书店的网上书店哟，质量有保证，现在的价格已经在原有的基础上打折呢的，喜欢就拍下哦，不会让您失望的~'"
      ]
     },
     "execution_count": 5,
     "metadata": {},
     "output_type": "execute_result"
    }
   ],
   "source": [
    "evaluate(new_model ,  \"能发潮州吗\")\n",
    "evaluate(new_model ,  \"啥时候发货啊不是\")\n",
    "evaluate(new_model ,  \"可以选择快递吗\")\n",
    "evaluate(new_model ,  \"太贵了\")"
   ]
  }
 ],
 "metadata": {
  "kernelspec": {
   "display_name": "Python 3 (ipykernel)",
   "language": "python",
   "name": "python3"
  },
  "language_info": {
   "codemirror_mode": {
    "name": "ipython",
    "version": 3
   },
   "file_extension": ".py",
   "mimetype": "text/x-python",
   "name": "python",
   "nbconvert_exporter": "python",
   "pygments_lexer": "ipython3",
   "version": "3.10.12"
  }
 },
 "nbformat": 4,
 "nbformat_minor": 5
}
