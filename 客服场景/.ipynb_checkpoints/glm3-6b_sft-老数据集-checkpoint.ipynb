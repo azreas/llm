{
 "cells": [
  {
   "cell_type": "code",
   "execution_count": 1,
   "id": "23160e39-87be-4f55-9cda-8156b3fe7050",
   "metadata": {
    "scrolled": true,
    "tags": []
   },
   "outputs": [
    {
     "name": "stderr",
     "output_type": "stream",
     "text": [
      "Setting eos_token is not supported, use the default one.\n",
      "Setting pad_token is not supported, use the default one.\n",
      "Setting unk_token is not supported, use the default one.\n"
     ]
    },
    {
     "data": {
      "application/vnd.jupyter.widget-view+json": {
       "model_id": "dd7d8320bd794870b154f835e3707e06",
       "version_major": 2,
       "version_minor": 0
      },
      "text/plain": [
       "Loading checkpoint shards:   0%|          | 0/7 [00:00<?, ?it/s]"
      ]
     },
     "metadata": {},
     "output_type": "display_data"
    }
   ],
   "source": [
    "from transformers import AutoTokenizer, AutoModel\n",
    "import os\n",
    "\n",
    "# os.environ[\"CUDA_VISIBLE_DEVICES\"]=\"0\"\n",
    "\n",
    "tokenizer = AutoTokenizer.from_pretrained(\"/opt/cache/modelscope/hub/ZhipuAI/chatglm3-6b\",trust_remote_code=True)\n",
    "model = AutoModel.from_pretrained(\"/opt/cache/modelscope/hub/ZhipuAI/chatglm3-6b\",trust_remote_code=True).half().cuda()\n",
    "# model = model.eval()\n",
    "\n",
    "# model = AutoModel.from_pretrained(\"/opt/cache/modelscope/hub/ZhipuAI/chatglm3-6b\", trust_remote_code=True, load_in_8bit=True, device_map='auto')\n"
   ]
  },
  {
   "cell_type": "code",
   "execution_count": 2,
   "id": "24846fc7-ddfc-4055-8437-099c06af8aea",
   "metadata": {
    "scrolled": true,
    "tags": []
   },
   "outputs": [],
   "source": [
    "from peft import PeftModel\n",
    "new_model = PeftModel.from_pretrained(\n",
    "            model,\n",
    "            \"/opt/data/chatglm3-6b/sft_500\",\n",
    "            device_map='auto'\n",
    "        )"
   ]
  },
  {
   "cell_type": "code",
   "execution_count": 3,
   "id": "aa6b4cab-5889-40bb-becf-5ebfa6704233",
   "metadata": {},
   "outputs": [
    {
     "name": "stdout",
     "output_type": "stream",
     "text": [
      "------\n",
      "实在不好意思，目前店铺只能使用[店铺名字]的优惠券/券代码，如果其他平台购买，请帮助您选择其他优惠券/代码哦//@wx\n",
      "------\n",
      "您好，我是您的人工智能助手，请问有什么问题我可以帮您解答一下呢？\n",
      "------\n",
      "轩宝放心，我们会尽快发货的，请您放心等待，如有需要，请您 focus on 平台上提供的联系方式联系我们哟\n",
      "------\n",
      "咱们家是{仓库}仓库根据库存就近发货。正常情况2-3天左右，如果遇到天气等其他因素影响可能3-5天，偏远地区可能晚一点，活动期间预计有所延迟具体看物流时效，请您多多理解#E-s02#E-s02，如遇到物流异常，请及时联系我们反馈，谢谢您的支持#E-s07#E-s07\n",
      "------\n",
      "尊敬的客户，咱们家提供{仓库}仓库发货，仓库发货速度更快哦，请您选择仓库发货哦\n",
      "#E-s01 仓库 e-s01 仓库下单#\n",
      "------\n",
      "轩宝，咱们家是仓库库存的，显示的库存是仓库的,不是实时的哦，请您理解~\n",
      "------\n",
      "轩宝，非常理解您可能是因为某些快递不方便，但为了保证发货速度，咱们是系统自动配货哦，无法指定快递，我们合作的快递到货也是挺快的哟，还望您多多谅解呢\n"
     ]
    }
   ],
   "source": [
    "response, history = new_model.chat(tokenizer, \"能不能靠谱点\", history=[])\n",
    "print('------')\n",
    "print(response)\n",
    "response, history = new_model.chat(tokenizer, \"人工客服\", history=[])\n",
    "print('------')\n",
    "print(response)\n",
    "response, history = new_model.chat(tokenizer, \"今天发明天能收到吗\", history=[])\n",
    "print('------')\n",
    "print(response)\n",
    "response, history = new_model.chat(tokenizer, \"发货后到广州预计几天左右能到\", history=[])\n",
    "print('------')\n",
    "print(response)\n",
    "response, history = new_model.chat(tokenizer, \"新疆发货不\", history=[])\n",
    "print('------')\n",
    "print(response)\n",
    "response, history = new_model.chat(tokenizer, \"新疆发货不\", history=[])\n",
    "print('------')\n",
    "print(response)\n",
    "response, history = new_model.chat(tokenizer, \"能发韵达吗\", history=[])\n",
    "print('------')\n",
    "print(response)"
   ]
  },
  {
   "cell_type": "code",
   "execution_count": 4,
   "id": "8765def6-a04e-43b6-9d53-505990bf0beb",
   "metadata": {},
   "outputs": [
    {
     "name": "stdout",
     "output_type": "stream",
     "text": [
      "------\n",
      "非常抱歉给您带来了不好的体验，您继续使用，若 still not good we will replace it immediately.\n",
      "------\n",
      "您好，我是您的人工智能助手，请问有什么问题我可以帮您解答呢？\n",
      "------\n",
      "咱们店铺是{仓库}仓库根据库存就近发货呢。\n",
      "您放心，有什么问题联系我们为您解决吧！\n",
      "------\n",
      "您收货的书籍在商品页面有默认发货方式（默认发货方式是加快发货） 请知悉\n",
      "------\n",
      "轩宝，咱们家是支持您影响的，您需要提供下单时您的收货地址，方便您核实哟。\n",
      "------\n",
      "您好，咱们店铺是{仓库仓库/仓库库存/物流仓库/实际仓库/实际库存}的哦，请您放心哟！\n",
      "------\n",
      "轩宝，您可以在购物 Cart 结算后，点击右下角“查看订单”查看已下单商品的订单，在订单详情页面，您会看到“物流信息”点击“修改”按钮，填写地址和电话， then 点击“提交”点击“确认修改”即可自定义物流，如果不能改则显示不能修改物流信息，您可以先取消订单重新下单哦，不过可能页面显示库存不支持自定义物流时，影响价格呢，我们秒结呢，请稍催下哦\n"
     ]
    }
   ],
   "source": [
    "response, history = new_model.chat(tokenizer, \"服务一点不靠谱\", history=[])\n",
    "print('------')\n",
    "print(response)\n",
    "response, history = new_model.chat(tokenizer, \"转人工客服\", history=[])\n",
    "print('------')\n",
    "print(response)\n",
    "response, history = new_model.chat(tokenizer, \"今天发货的话明天能收到吗\", history=[])\n",
    "print('------')\n",
    "print(response)\n",
    "response, history = new_model.chat(tokenizer, \"发成都多久能收到\", history=[])\n",
    "print('------')\n",
    "print(response)\n",
    "response, history = new_model.chat(tokenizer, \"台湾发货不\", history=[])\n",
    "print('------')\n",
    "print(response)\n",
    "response, history = new_model.chat(tokenizer, \"西藏发货不\", history=[])\n",
    "print('------')\n",
    "print(response)\n",
    "response, history = new_model.chat(tokenizer, \"可以发其他快递吗\", history=[])\n",
    "print('------')\n",
    "print(response)"
   ]
  }
 ],
 "metadata": {
  "kernelspec": {
   "display_name": "Python 3 (ipykernel)",
   "language": "python",
   "name": "python3"
  },
  "language_info": {
   "codemirror_mode": {
    "name": "ipython",
    "version": 3
   },
   "file_extension": ".py",
   "mimetype": "text/x-python",
   "name": "python",
   "nbconvert_exporter": "python",
   "pygments_lexer": "ipython3",
   "version": "3.10.12"
  }
 },
 "nbformat": 4,
 "nbformat_minor": 5
}
