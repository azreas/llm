{
 "cells": [
  {
   "cell_type": "code",
   "execution_count": 1,
   "id": "23160e39-87be-4f55-9cda-8156b3fe7050",
   "metadata": {
    "scrolled": true,
    "tags": []
   },
   "outputs": [
    {
     "name": "stderr",
     "output_type": "stream",
     "text": [
      "Setting eos_token is not supported, use the default one.\n",
      "Setting pad_token is not supported, use the default one.\n",
      "Setting unk_token is not supported, use the default one.\n"
     ]
    },
    {
     "data": {
      "application/vnd.jupyter.widget-view+json": {
       "model_id": "36ed136cf9874ee6bb5675e8a3e3be05",
       "version_major": 2,
       "version_minor": 0
      },
      "text/plain": [
       "Loading checkpoint shards:   0%|          | 0/7 [00:00<?, ?it/s]"
      ]
     },
     "metadata": {},
     "output_type": "display_data"
    }
   ],
   "source": [
    "from transformers import AutoTokenizer, AutoModel\n",
    "import os\n",
    "\n",
    "# os.environ[\"CUDA_VISIBLE_DEVICES\"]=\"0\"\n",
    "\n",
    "tokenizer = AutoTokenizer.from_pretrained(\"/opt/cache/modelscope/hub/ZhipuAI/chatglm3-6b\",trust_remote_code=True)\n",
    "model = AutoModel.from_pretrained(\"/opt/cache/modelscope/hub/ZhipuAI/chatglm3-6b\",trust_remote_code=True).half().cuda()\n",
    "# model = model.eval()\n",
    "\n",
    "# model = AutoModel.from_pretrained(\"/opt/cache/modelscope/hub/ZhipuAI/chatglm3-6b\", trust_remote_code=True, load_in_8bit=True, device_map='auto')\n"
   ]
  },
  {
   "cell_type": "code",
   "execution_count": 2,
   "id": "24846fc7-ddfc-4055-8437-099c06af8aea",
   "metadata": {
    "scrolled": true,
    "tags": []
   },
   "outputs": [],
   "source": [
    "from peft import PeftModel\n",
    "new_model = PeftModel.from_pretrained(\n",
    "            model,\n",
    "            \"/opt/data/chatglm3-6b/sft_500\",\n",
    "            device_map='auto'\n",
    "        )"
   ]
  },
  {
   "cell_type": "code",
   "execution_count": 3,
   "id": "aa6b4cab-5889-40bb-becf-5ebfa6704233",
   "metadata": {},
   "outputs": [
    {
     "name": "stdout",
     "output_type": "stream",
     "text": [
      "------\n",
      "轩宝，关于书籍介绍的图片可能不太准确，我们店铺是随机发货的，具体商品颜色和型号随机，请您收到商品后，开开心心哦！若您不满意，我们都会尽全力让您满意哟\n",
      "------\n",
      "您好，如果您有问题，可以和我说哦。我会尽我所能帮您\n",
      "------\n",
      "轩宝放心，我们会尽快发货的，请您耐心等待哦~喵\n",
      "------\n",
      "咱们家是{仓库}仓库根据库存就近发货。正常情况2-3天左右，如果遇到天气等其他因素影响可能3-5天，偏远地区可能晚一点，活动期间预计有所延迟具体看物流时效，请您多多理解#E-s02#E-s02，如遇到物流异常，请及时联系我们反馈，谢谢您的支持#E-s07#E-s07\n",
      "------\n",
      "轩宝，咱们家是支持您下单的商品发货的所在的仓库下单的哦。\n",
      "------\n",
      "您好，咱们默认发给您安排订单的店铺店铺会根据店铺有貌有介绍的哦\n",
      "------\n",
      "轩宝，非常理解您可能是因为某些快递不方便，但为了保证发货速度，咱们是系统自动配货哦，无法指定快递，我们合作的快递到货也是挺快的哟，还望您多多谅解呢\n"
     ]
    }
   ],
   "source": [
    "response, history = new_model.chat(tokenizer, \"能不能靠谱点\", history=[])\n",
    "print('------')\n",
    "print(response)\n",
    "response, history = new_model.chat(tokenizer, \"人工客服\", history=[])\n",
    "print('------')\n",
    "print(response)\n",
    "response, history = new_model.chat(tokenizer, \"今天发明天能收到吗\", history=[])\n",
    "print('------')\n",
    "print(response)\n",
    "response, history = new_model.chat(tokenizer, \"发货后到广州预计几天左右能到\", history=[])\n",
    "print('------')\n",
    "print(response)\n",
    "response, history = new_model.chat(tokenizer, \"新疆发货不\", history=[])\n",
    "print('------')\n",
    "print(response)\n",
    "response, history = new_model.chat(tokenizer, \"新疆发货不\", history=[])\n",
    "print('------')\n",
    "print(response)\n",
    "response, history = new_model.chat(tokenizer, \"能发韵达吗\", history=[])\n",
    "print('------')\n",
    "print(response)"
   ]
  },
  {
   "cell_type": "code",
   "execution_count": 4,
   "id": "8765def6-a04e-43b6-9d53-505990bf0beb",
   "metadata": {},
   "outputs": [
    {
     "name": "stdout",
     "output_type": "stream",
     "text": [
      "------\n",
      "实在抱歉，您的订单我们都有记录的，您可以在我们店铺搜索“客户中心”点击“售后服务”进入，点击“售后文件”，查看我们的服务承诺，您可以对您的订单看看是否是 we 店铺 sales， ws:若ws 店铺已承诺wd,则店铺会主动联系您，地址:https://s.alitcd.com/page/sales/sales_left,0.html，若ws 店铺未承诺，您可以在以下位置查看承诺:https://s.alitcd.com/page/customer/left,0.html，左侧为“服务承诺”，右侧为“服务承诺具体内容”，点击“查看具体内容”查看详情，您也可以在交易订单页面，点击“售后按钮”，填写右下角“售后模版”表格，上传附件，右上角点击““添加售后订单””，然后提交，等待人工客服，对方人工客服也会协助您哦，祝您好运呢\n",
      "------\n",
      "您好，我是智能助手，请问有什么我可以帮您的\n",
      "------\n",
      "咱们店铺是{仓库}仓库根据实际情况发货的，具体要看看商品标题里推荐和购买数量，数量越多，可能性越大，不过如果数量大杯可能要加钱呢，祝您选购愉快~\n",
      "------\n",
      "咱们家是{仓库}仓库发货，具体塑封还是带包装的，以及发货速度都有几种选择哟。\n",
      "默认速度: 和经济快递类似。 faster speed: 快递和快递Click都是时效较快的。\n",
      "}\n",
      "------\n",
      "轩宝，咱们家是网络店铺，您可以在网络搜索我们的店铺，查看店铺或者店铺中的商品描述，描述里会标注分销商或者采购商信息，如果您直接下订单，下单后联系我们下下订单，帮助您选择店铺\n",
      "------\n",
      "轩宝，咱们家是网络店铺，商品会根据您下单时所在的地区进行发货的，请您放心，我们会尽量给您安排实力更强的仓库呢~\n",
      "------\n",
      "轩宝，您可以在下单后查看一下系统推荐的快递公司，大部分是系统自动选的，不过大部分系统选的快递都是推荐，也可以自行选下您喜欢的快递哦\n"
     ]
    }
   ],
   "source": [
    "response, history = new_model.chat(tokenizer, \"服务一点不靠谱\", history=[])\n",
    "print('------')\n",
    "print(response)\n",
    "response, history = new_model.chat(tokenizer, \"转人工客服\", history=[])\n",
    "print('------')\n",
    "print(response)\n",
    "response, history = new_model.chat(tokenizer, \"今天发货的话明天能收到吗\", history=[])\n",
    "print('------')\n",
    "print(response)\n",
    "response, history = new_model.chat(tokenizer, \"发成都多久能收到\", history=[])\n",
    "print('------')\n",
    "print(response)\n",
    "response, history = new_model.chat(tokenizer, \"台湾发货不\", history=[])\n",
    "print('------')\n",
    "print(response)\n",
    "response, history = new_model.chat(tokenizer, \"西藏发货不\", history=[])\n",
    "print('------')\n",
    "print(response)\n",
    "response, history = new_model.chat(tokenizer, \"可以发其他快递吗\", history=[])\n",
    "print('------')\n",
    "print(response)"
   ]
  },
  {
   "cell_type": "code",
   "execution_count": 5,
   "id": "068bc93d-c238-42ee-90f4-f17e52b9f75c",
   "metadata": {},
   "outputs": [
    {
     "name": "stdout",
     "output_type": "stream",
     "text": [
      "------\n",
      "亲，由于不可抗拒因素（如天气，疫情等）影响快递可能晚到，请您放心。\n",
      "------\n",
      "轩宝，您放心，我们店铺是{仓库}发货，具体时间看仓库的物流信息哦~\n",
      "------\n",
      "咱们店铺是{仓库}仓库会根据实际情况安排发货的哦！\n",
      "请您谅解和尊重尊重尊重尊重的物流可能可能可能可能可能可能可能可能可能可能可能可能可能可能可能可能可能可能可能可能可能\n",
      "------\n",
      "轩宝，咱们家主要支持您自提或者让您的下单地址添加到订单的呢？若您自提，建议您下单后稍等一下，我们会在您下单后尽快反馈给您物流信息哟\n",
      "------\n",
      "轩宝，您放心，我们店铺的商品都会在页面详细介绍的,您放心呢，我们所有的商品都是实物拍摄，保证您满意哦~\n",
      "------\n",
      "亲爱哒~ 如果您下单的书籍是有库存的给您发送的呢~ 给您发送书籍的图片和购买的书籍是一起发送的哦\n",
      "亲爱哒~ 如果您下单的书籍我们有库存给您发送书籍的图片和购买的书籍是一起发送的哦\n",
      "------\n",
      "轩宝，礼物暂不支持哟~\n"
     ]
    }
   ],
   "source": [
    "response, history = new_model.chat(tokenizer, \"能发潮州吗\", history=[])\n",
    "print('------')\n",
    "print(response)\n",
    "response, history = new_model.chat(tokenizer, \"能发申通吗\", history=[])\n",
    "print('------')\n",
    "print(response)\n",
    "response, history = new_model.chat(tokenizer, \"新竹发货不\", history=[])\n",
    "print('------')\n",
    "print(response)\n",
    "response, history = new_model.chat(tokenizer, \"高雄能发货？\", history=[])\n",
    "print('------')\n",
    "print(response)\n",
    "response, history = new_model.chat(tokenizer, \"能发东京吗\", history=[])\n",
    "print('------')\n",
    "print(response)\n",
    "response, history = new_model.chat(tokenizer, \"可以寄纽约吗\", history=[])\n",
    "print('------')\n",
    "print(response)\n",
    "response, history = new_model.chat(tokenizer, \"我在美国，可以发货吗\", history=[])\n",
    "print('------')\n",
    "print(response)"
   ]
  }
 ],
 "metadata": {
  "kernelspec": {
   "display_name": "Python 3 (ipykernel)",
   "language": "python",
   "name": "python3"
  },
  "language_info": {
   "codemirror_mode": {
    "name": "ipython",
    "version": 3
   },
   "file_extension": ".py",
   "mimetype": "text/x-python",
   "name": "python",
   "nbconvert_exporter": "python",
   "pygments_lexer": "ipython3",
   "version": "3.10.14"
  }
 },
 "nbformat": 4,
 "nbformat_minor": 5
}
